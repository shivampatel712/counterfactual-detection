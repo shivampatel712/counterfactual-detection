{
 "cells": [
  {
   "cell_type": "markdown",
   "id": "1eadd348",
   "metadata": {},
   "source": [
    "## Typical Transformer Preprocessing"
   ]
  },
  {
   "cell_type": "code",
   "execution_count": 1,
   "id": "3cf57131",
   "metadata": {},
   "outputs": [],
   "source": [
    "import numpy as np \n",
    "import pandas as pd \n",
    "import re\n",
    "import string"
   ]
  },
  {
   "cell_type": "code",
   "execution_count": 2,
   "id": "a3788a9c",
   "metadata": {},
   "outputs": [],
   "source": [
    "def remove_URL(text):\n",
    "    url = re.compile(r'https?://\\S+')\n",
    "    return url.sub(r' httpsmark ', text)\n",
    "\n",
    "\n",
    "def remove_html(text):\n",
    "    html = re.compile(r'<.*?>')\n",
    "    return html.sub(r'', text)\n",
    "\n",
    "\n",
    "def remove_atsymbol(text):\n",
    "    name = re.compile(r'@\\S+')\n",
    "    return name.sub(r' atsymbol ', text)\n",
    "\n",
    "\n",
    "def remove_hashtag(text):\n",
    "    hashtag = re.compile(r'#')\n",
    "    return hashtag.sub(r' hashtag ', text)\n",
    "\n",
    "\n",
    "def remove_exclamation(text):\n",
    "    exclamation = re.compile(r'!')\n",
    "    return exclamation.sub(r' exclamation ', text)\n",
    "\n",
    "\n",
    "def remove_question(text):\n",
    "    question = re.compile(r'?')\n",
    "    return question.sub(r' question ', text)\n",
    "\n",
    "\n",
    "def remove_punc(text):\n",
    "    return text.translate(str.maketrans('','',string.punctuation))\n",
    "\n",
    "\n",
    "def remove_number(text):\n",
    "    number = re.compile(r'\\d+')\n",
    "    return number.sub(r' number ', text)\n",
    "\n",
    "\n",
    "def remove_emoji(string):\n",
    "    emoji_pattern = re.compile(\"[\"\n",
    "                               u\"\\U0001F600-\\U0001F64F\"  # emoticons\n",
    "                               u\"\\U0001F300-\\U0001F5FF\"  # symbols & pictographs\n",
    "                               u\"\\U0001F680-\\U0001F6FF\"  # transport & map symbols\n",
    "                               u\"\\U0001F1E0-\\U0001F1FF\"  # flags (iOS)\n",
    "                               u\"\\U00002500-\\U00002BEF\"  # chinese char\n",
    "                               u\"\\U00002702-\\U000027B0\"\n",
    "                               u\"\\U00002702-\\U000027B0\"\n",
    "                               u\"\\U000024C2-\\U0001F251\"\n",
    "                               u\"\\U0001f926-\\U0001f937\"\n",
    "                               u\"\\U00010000-\\U0010ffff\"\n",
    "                               u\"\\u2640-\\u2642\"\n",
    "                               u\"\\u2600-\\u2B55\"\n",
    "                               u\"\\u200d\"\n",
    "                               u\"\\u23cf\"\n",
    "                               u\"\\u23e9\"\n",
    "                               u\"\\u231a\"\n",
    "                               u\"\\ufe0f\"  # dingbats\n",
    "                               u\"\\u3030\"\n",
    "                               \"]+\", flags=re.UNICODE)\n",
    "    return emoji_pattern.sub(r' emoji ', string)\n"
   ]
  },
  {
   "cell_type": "code",
   "execution_count": 3,
   "id": "8735aa3f",
   "metadata": {},
   "outputs": [],
   "source": [
    "train_data = pd.read_csv('../data/raw/SemEval-2020-Task5-Dataset/Subtask-1/subtask1_train.csv')\n",
    "test_data = pd.read_csv('../data/raw/SemEval-2020-Task5-Dataset/Subtask-1/subtask1_test.csv')"
   ]
  },
  {
   "cell_type": "code",
   "execution_count": null,
   "id": "b4310f5b",
   "metadata": {},
   "outputs": [],
   "source": [
    "train_data['sentence'] = train_data['sentence'].str.lower()\n",
    "train_data['sentence'] = train_data['sentence'].apply(lambda text: remove_URL(text))\n",
    "train_data['sentence'] = train_data['sentence'].apply(lambda text: remove_html(text))\n",
    "train_data['sentence'] = train_data['sentence'].apply(lambda text: remove_atsymbol(text))\n",
    "train_data['sentence'] = train_data['sentence'].apply(lambda text: remove_hashtag(text))\n",
    "train_data['sentence'] = train_data['sentence'].apply(lambda text: remove_exclamation(text))\n",
    "train_data['sentence'] = train_data['sentence'].apply(lambda text: remove_punc(text))\n",
    "train_data['sentence'] = train_data['sentence'].apply(lambda text: remove_number(text))\n",
    "train_data['sentence'] = train_data['sentence'].apply(lambda text: remove_emoji(text))\n",
    "\n",
    "test_data['sentence']  = test_data['sentence'].str.lower()\n",
    "test_data['sentence']  = test_data['sentence'].apply(lambda text: remove_URL(text))\n",
    "test_data['sentence']  = test_data['sentence'].apply(lambda text: remove_html(text))\n",
    "test_data['sentence']  = test_data['sentence'].apply(lambda text: remove_atsymbol(text))\n",
    "test_data['sentence']  = test_data['sentence'].apply(lambda text: remove_hashtag(text))\n",
    "test_data['sentence']  = test_data['sentence'].apply(lambda text: remove_exclamation(text))\n",
    "test_data['sentence']  = test_data['sentence'].apply(lambda text: remove_punc(text))\n",
    "test_data['sentence']  = test_data['sentence'].apply(lambda text: remove_number(text))\n",
    "test_data['sentence']  = test_data['sentence'].apply(lambda text: remove_emoji(text))"
   ]
  },
  {
   "cell_type": "code",
   "execution_count": null,
   "id": "91e37350",
   "metadata": {},
   "outputs": [],
   "source": [
    "df.rename(columns = {'gold':'team_name', 'points':'points_scored'}, inplace = True)"
   ]
  },
  {
   "cell_type": "code",
   "execution_count": null,
   "id": "df9f9123",
   "metadata": {},
   "outputs": [],
   "source": [
    "train_data.to_csv('../data/processed/subtask1_train.csv', index=False)\n",
    "test_data.to_csv('../data/processed/subtask1_train.csv', index=False)"
   ]
  }
 ],
 "metadata": {
  "kernelspec": {
   "display_name": "Python 3 (ipykernel)",
   "language": "python",
   "name": "python3"
  },
  "language_info": {
   "codemirror_mode": {
    "name": "ipython",
    "version": 3
   },
   "file_extension": ".py",
   "mimetype": "text/x-python",
   "name": "python",
   "nbconvert_exporter": "python",
   "pygments_lexer": "ipython3",
   "version": "3.8.5"
  }
 },
 "nbformat": 4,
 "nbformat_minor": 5
}
