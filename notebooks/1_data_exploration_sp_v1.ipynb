{
 "cells": [
  {
   "cell_type": "markdown",
   "id": "ab0659fe",
   "metadata": {},
   "source": [
    "## Provided Code for Subtask 1"
   ]
  },
  {
   "cell_type": "code",
   "execution_count": 13,
   "id": "049478d2",
   "metadata": {},
   "outputs": [
    {
     "name": "stderr",
     "output_type": "stream",
     "text": [
      "[nltk_data] Downloading package punkt to\n",
      "[nltk_data]     /Users/shivampatel/nltk_data...\n",
      "[nltk_data]   Package punkt is already up-to-date!\n",
      "[nltk_data] Downloading package wordnet to\n",
      "[nltk_data]     /Users/shivampatel/nltk_data...\n",
      "[nltk_data]   Package wordnet is already up-to-date!\n",
      "[nltk_data] Downloading package omw-1.4 to\n",
      "[nltk_data]     /Users/shivampatel/nltk_data...\n",
      "[nltk_data]   Package omw-1.4 is already up-to-date!\n",
      "[nltk_data] Downloading package averaged_perceptron_tagger to\n",
      "[nltk_data]     /Users/shivampatel/nltk_data...\n",
      "[nltk_data]   Package averaged_perceptron_tagger is already up-to-\n",
      "[nltk_data]       date!\n",
      "[nltk_data] Downloading package stopwords to\n",
      "[nltk_data]     /Users/shivampatel/nltk_data...\n",
      "[nltk_data]   Unzipping corpora/stopwords.zip.\n"
     ]
    },
    {
     "data": {
      "text/plain": [
       "True"
      ]
     },
     "execution_count": 13,
     "metadata": {},
     "output_type": "execute_result"
    }
   ],
   "source": [
    "import nltk\n",
    "nltk.download('punkt')\n",
    "nltk.download('wordnet')\n",
    "nltk.download('omw-1.4')\n",
    "nltk.download('averaged_perceptron_tagger')\n",
    "nltk.download('stopwords')"
   ]
  },
  {
   "cell_type": "code",
   "execution_count": 14,
   "id": "da46eedd",
   "metadata": {},
   "outputs": [
    {
     "name": "stdout",
     "output_type": "stream",
     "text": [
      "File: ../data/raw/SemEval-2020-Task5-Dataset/Subtask-1/subtask1_train.csv\n",
      ">> Feature generation...\n",
      ">> SVM classifier....\n",
      "SVM Precision Score ->  73.21428571428571\n",
      "SVM Recall Score ->  8.951965065502183\n",
      "SVM F1 Score ->  15.953307392996107\n"
     ]
    }
   ],
   "source": [
    "# SVM baseline for SemEval-2020 Subtask-1\n",
    "\n",
    "import pandas as pd\n",
    "import numpy as np\n",
    "from nltk.tokenize import word_tokenize\n",
    "from nltk import pos_tag\n",
    "from nltk.corpus import stopwords\n",
    "from nltk.stem import WordNetLemmatizer\n",
    "from sklearn.preprocessing import LabelEncoder\n",
    "from collections import defaultdict\n",
    "from nltk.corpus import wordnet as wn\n",
    "from sklearn.feature_extraction.text import TfidfVectorizer\n",
    "from sklearn import model_selection, naive_bayes, svm\n",
    "from sklearn.metrics import accuracy_score, recall_score, precision_score, f1_score\n",
    "\n",
    "np.random.seed(500)\n",
    "\n",
    "path =  '../data/raw/SemEval-2020-Task5-Dataset/Subtask-1/subtask1_train.csv'\n",
    "corpus = pd.read_csv(path, encoding='utf-8')\n",
    "percent = 0.3 \t# 0.3 for testing\n",
    "print(\"File: %s\" % path)\n",
    "\n",
    "corpus['sentence'].dropna(inplace=True)\n",
    "corpus['sentence'] = [sent.lower() for sent in corpus['sentence']]\n",
    "corpus['sentence'] = [word_tokenize(word) for word in corpus['sentence']]\n",
    "tag_map = defaultdict(lambda: wn.NOUN)\n",
    "tag_map['J'] = wn.ADJ\n",
    "tag_map['V'] = wn.VERB\n",
    "tag_map['R'] = wn.ADV\n",
    "for index, entry in enumerate(corpus['sentence']):\n",
    "    Final_words = []\n",
    "    word_Lemmatized = WordNetLemmatizer()\n",
    "    for word, tag in pos_tag(entry):\n",
    "        if word not in stopwords.words('english') and word.isalpha():\n",
    "            word_Final = word_Lemmatized.lemmatize(word, tag_map[tag[0]])\n",
    "            Final_words.append(word_Final)\n",
    "    corpus.loc[index, 'sentence_final'] = str(Final_words)\n",
    "Train_X, Test_X, Train_Y, Test_Y = model_selection.train_test_split(corpus['sentence_final'], corpus['gold_label'], test_size=percent)\n",
    "\n",
    "print(\">> Feature generation...\")\n",
    "Encoder = LabelEncoder()\n",
    "Train_Y = Encoder.fit_transform(Train_Y)\n",
    "Test_Y = Encoder.fit_transform(Test_Y)\n",
    "\n",
    "Tfidf_vect = TfidfVectorizer(max_features=5000)\n",
    "Tfidf_vect.fit(corpus['sentence_final'])\n",
    "Train_X_Tfidf = Tfidf_vect.transform(Train_X)\n",
    "Test_X_Tfidf = Tfidf_vect.transform(Test_X)\n",
    "\n",
    "print(\">> SVM classifier....\")\n",
    "SVM = svm.SVC(C=1.0, kernel='linear', degree=3, gamma='auto')\n",
    "SVM.fit(Train_X_Tfidf, Train_Y)\n",
    "predictions_SVM = SVM.predict(Test_X_Tfidf)\n",
    "# print(\"SVM Accuracy Score -> \", accuracy_score(Test_Y, predictions_SVM) * 100)\n",
    "print(\"SVM Precision Score -> \", precision_score(Test_Y, predictions_SVM) * 100)\n",
    "print(\"SVM Recall Score -> \", recall_score(Test_Y, predictions_SVM) * 100)\n",
    "print(\"SVM F1 Score -> \", f1_score(Test_Y, predictions_SVM) * 100)\n"
   ]
  },
  {
   "cell_type": "markdown",
   "id": "8123cc64",
   "metadata": {},
   "source": [
    "## Raw Data"
   ]
  },
  {
   "cell_type": "code",
   "execution_count": 15,
   "id": "44a2cabf",
   "metadata": {},
   "outputs": [],
   "source": [
    "train_df = pd.read_csv('../data/raw/SemEval-2020-Task5-Dataset/Subtask-1/subtask1_train.csv')"
   ]
  },
  {
   "cell_type": "code",
   "execution_count": 19,
   "id": "fff1ca28",
   "metadata": {},
   "outputs": [
    {
     "data": {
      "text/html": [
       "<div>\n",
       "<style scoped>\n",
       "    .dataframe tbody tr th:only-of-type {\n",
       "        vertical-align: middle;\n",
       "    }\n",
       "\n",
       "    .dataframe tbody tr th {\n",
       "        vertical-align: top;\n",
       "    }\n",
       "\n",
       "    .dataframe thead th {\n",
       "        text-align: right;\n",
       "    }\n",
       "</style>\n",
       "<table border=\"1\" class=\"dataframe\">\n",
       "  <thead>\n",
       "    <tr style=\"text-align: right;\">\n",
       "      <th></th>\n",
       "      <th>sentenceID</th>\n",
       "      <th>gold_label</th>\n",
       "      <th>sentence</th>\n",
       "    </tr>\n",
       "  </thead>\n",
       "  <tbody>\n",
       "    <tr>\n",
       "      <th>0</th>\n",
       "      <td>100000</td>\n",
       "      <td>1</td>\n",
       "      <td>Goodfellow's theory has been questioned, howev...</td>\n",
       "    </tr>\n",
       "    <tr>\n",
       "      <th>1</th>\n",
       "      <td>100001</td>\n",
       "      <td>1</td>\n",
       "      <td>However, both campaigners and pro-People's Vot...</td>\n",
       "    </tr>\n",
       "    <tr>\n",
       "      <th>2</th>\n",
       "      <td>100002</td>\n",
       "      <td>1</td>\n",
       "      <td>Things could have been even better if the whol...</td>\n",
       "    </tr>\n",
       "    <tr>\n",
       "      <th>3</th>\n",
       "      <td>100003</td>\n",
       "      <td>0</td>\n",
       "      <td>The new request, if approved, would keep the m...</td>\n",
       "    </tr>\n",
       "    <tr>\n",
       "      <th>4</th>\n",
       "      <td>100004</td>\n",
       "      <td>0</td>\n",
       "      <td>Companies in financial difficulty can currentl...</td>\n",
       "    </tr>\n",
       "  </tbody>\n",
       "</table>\n",
       "</div>"
      ],
      "text/plain": [
       "   sentenceID  gold_label                                           sentence\n",
       "0      100000           1  Goodfellow's theory has been questioned, howev...\n",
       "1      100001           1  However, both campaigners and pro-People's Vot...\n",
       "2      100002           1  Things could have been even better if the whol...\n",
       "3      100003           0  The new request, if approved, would keep the m...\n",
       "4      100004           0  Companies in financial difficulty can currentl..."
      ]
     },
     "execution_count": 19,
     "metadata": {},
     "output_type": "execute_result"
    }
   ],
   "source": [
    "train_df.head()"
   ]
  },
  {
   "cell_type": "code",
   "execution_count": 18,
   "id": "b7a4a00c",
   "metadata": {},
   "outputs": [
    {
     "data": {
      "text/plain": [
       "[\"Goodfellow's theory has been questioned, however, because the plane made two other sharp turns that would've been impossible if the pilots were unconscious.\",\n",
       " \"However, both campaigners and pro-People's Vote MPs say that this number would be grow significantly if there were no other viable means of avoiding leaving the EU without a Withdrawal Agreement.\",\n",
       " \"Things could have been even better if the whole chip industry wasn't constrained by chip foundries such as Taiwan Semiconductor Manufacturing (NYSE: TSM) and United Microelectronics getting swamped under more orders than they can handle.\",\n",
       " 'The new request, if approved, would keep the military forces on the border through Jan.',\n",
       " 'Companies in financial difficulty can currently only negotiate down wages and conditions to below those established by the collective bargaining procedure if they have the approval of unions, which is rarely given.',\n",
       " 'If needed, I would like to have the right to try.',\n",
       " 'In a REIT situation, the operating companies would have to fund operations without the backing of real estate, and if revenue declines, they could see profits and debt funding dry up.',\n",
       " 'If Mr McCain is in charge, his record of bipartisan outreach will stand him in good stead; Mr Obama will be able to rely on solid majorities in Congress.',\n",
       " 'Regulatory measures may be considered if private sector efforts are not implemented.',\n",
       " 'A vote outside of the normal meeting time can come up if the SEC is racing to beat the statute of limitations on filing a charge, the source said.',\n",
       " 'Folks might not have felt like paying $10 a ticket to see films that have proven to be rather disappointing at the box office, like Cinderella Man or Kingdomof Heaven, but it stands to reason -- as has always been the case -- that many people will probably rent them, or even buy them, on DVD.',\n",
       " \"Once you're in, restaurants will have enough information to treat you like a regular even if it's the first time you've walked through the door.\",\n",
       " 'With a shrinking pool of peers, nurses will be able to leverage their talent to work on their terms; if they feel they are becoming burned out in their current position, they will do what Sharon did, repeatedly: pursue other opportunities.',\n",
       " 'If the court then permits the case to move forwardnot a certainty, given the novel constitutional claims at stakethe clash will turn to whether the plaintiffs may force Mr Trump to hand over tax returns as evidence of his business ties.',\n",
       " 'The C.D.C. says that even if young people have already had sex before they get the vaccine, it can still provide some protection..',\n",
       " 'If the Supreme Court rules that the text of the ACA does not allow for states using a federally run exchanges to receive subsidies, these people would lose critical financial assistance.',\n",
       " 'Patients can reasonably shop only for care that is for nonemergencies and would be motivated to do so only if they stood to gain.',\n",
       " 'In addition, the computer users often continued to work without taking breaks, but in other circumastance, if the users took the breaks itt would have relieved the additional tension and reduced the risk of developing repetitive strain injury.',\n",
       " \"Regulators can prevent a bank from buying back shares or paying dividends if they think those steps would pose risks to the firm's stability or if they take issue with the bank's capital planning process.\",\n",
       " 'No party other than the Left Party would oppose smart sanctions if Iran rejected the western package of incentives for it to remain non-nuclear.']"
      ]
     },
     "execution_count": 18,
     "metadata": {},
     "output_type": "execute_result"
    }
   ],
   "source": [
    "list(train_df['sentence'])[:20]"
   ]
  },
  {
   "cell_type": "markdown",
   "id": "fee9b58b",
   "metadata": {},
   "source": [
    "## Label Imbalance"
   ]
  },
  {
   "cell_type": "code",
   "execution_count": 25,
   "id": "decc5486",
   "metadata": {},
   "outputs": [],
   "source": [
    "import matplotlib.pyplot as plt\n",
    "import seaborn as sns"
   ]
  },
  {
   "cell_type": "code",
   "execution_count": 27,
   "id": "00208bb6",
   "metadata": {},
   "outputs": [
    {
     "data": {
      "text/html": [
       "<div>\n",
       "<style scoped>\n",
       "    .dataframe tbody tr th:only-of-type {\n",
       "        vertical-align: middle;\n",
       "    }\n",
       "\n",
       "    .dataframe tbody tr th {\n",
       "        vertical-align: top;\n",
       "    }\n",
       "\n",
       "    .dataframe thead th {\n",
       "        text-align: right;\n",
       "    }\n",
       "</style>\n",
       "<table border=\"1\" class=\"dataframe\">\n",
       "  <thead>\n",
       "    <tr style=\"text-align: right;\">\n",
       "      <th></th>\n",
       "      <th>sentenceID</th>\n",
       "      <th>sentence</th>\n",
       "    </tr>\n",
       "    <tr>\n",
       "      <th>gold_label</th>\n",
       "      <th></th>\n",
       "      <th></th>\n",
       "    </tr>\n",
       "  </thead>\n",
       "  <tbody>\n",
       "    <tr>\n",
       "      <th>0</th>\n",
       "      <td>11546</td>\n",
       "      <td>11546</td>\n",
       "    </tr>\n",
       "    <tr>\n",
       "      <th>1</th>\n",
       "      <td>1454</td>\n",
       "      <td>1454</td>\n",
       "    </tr>\n",
       "  </tbody>\n",
       "</table>\n",
       "</div>"
      ],
      "text/plain": [
       "            sentenceID  sentence\n",
       "gold_label                      \n",
       "0                11546     11546\n",
       "1                 1454      1454"
      ]
     },
     "execution_count": 27,
     "metadata": {},
     "output_type": "execute_result"
    }
   ],
   "source": [
    "train_df.groupby('gold_label').count()"
   ]
  },
  {
   "cell_type": "code",
   "execution_count": 28,
   "id": "80f9cbe5",
   "metadata": {},
   "outputs": [
    {
     "data": {
      "image/png": "[encoded data removed]",
      "text/plain": [
       "<Figure size 1700x400 with 2 Axes>"
      ]
     },
     "metadata": {
      "needs_background": "light"
     },
     "output_type": "display_data"
    }
   ],
   "source": [
    "fig, axes = plt.subplots(ncols=2, figsize=(17, 4), dpi=100)\n",
    "plt.tight_layout()\n",
    "\n",
    "train_df.groupby('gold_label').count()['sentenceID'].plot(kind='pie', ax=axes[0], labels=['Not CF (89%)', 'CF (11%)'])\n",
    "sns.countplot(x=train_df['gold_label'], hue=train_df['gold_label'], ax=axes[1])\n",
    "\n",
    "axes[0].set_ylabel('')\n",
    "axes[1].set_ylabel('')\n",
    "axes[1].set_xticklabels(['Not CF (11546)', 'CF (1454)'])\n",
    "axes[0].tick_params(axis='x', labelsize=15)\n",
    "axes[0].tick_params(axis='y', labelsize=15)\n",
    "axes[1].tick_params(axis='x', labelsize=15)\n",
    "axes[1].tick_params(axis='y', labelsize=15)\n",
    "\n",
    "axes[0].set_title('Target Distribution in Training Set', fontsize=13)\n",
    "axes[1].set_title('Target Count in Training Set', fontsize=13)\n",
    "\n",
    "plt.show()"
   ]
  },
  {
   "cell_type": "markdown",
   "id": "94ca33fa",
   "metadata": {},
   "source": [
    "## GloVe coverage"
   ]
  },
  {
   "cell_type": "code",
   "execution_count": 29,
   "id": "1ec91da9",
   "metadata": {},
   "outputs": [
    {
     "name": "stdout",
     "output_type": "stream",
     "text": [
      "Found 400001 word vectors.\n"
     ]
    }
   ],
   "source": [
    "glove_dir = '../data/external/glove.6B.300d.txt'\n",
    "\n",
    "vocab = {}\n",
    "with open(glove_dir, encoding='utf8') as f:\n",
    "    for line in f:\n",
    "        values = line.split()\n",
    "        word = values[0]\n",
    "        vector = np.asarray(values[1:], \"float32\")\n",
    "        vocab[word] = vector\n",
    "f.close()\n",
    "\n",
    "print('Found %s word vectors.' %len(vocab))"
   ]
  },
  {
   "cell_type": "code",
   "execution_count": 38,
   "id": "a04e276f",
   "metadata": {},
   "outputs": [
    {
     "ename": "KeyError",
     "evalue": "\"it's\"",
     "output_type": "error",
     "traceback": [
      "\u001b[0;31m---------------------------------------------------------------------------\u001b[0m",
      "\u001b[0;31mKeyError\u001b[0m                                  Traceback (most recent call last)",
      "\u001b[0;32m/var/folders/hl/fs34xlc90pd6lz0w2lbfc7q80000gn/T/ipykernel_74552/2907919653.py\u001b[0m in \u001b[0;36m<module>\u001b[0;34m\u001b[0m\n\u001b[0;32m----> 1\u001b[0;31m \u001b[0mvocab\u001b[0m\u001b[0;34m[\u001b[0m\u001b[0;34m\"it's\"\u001b[0m\u001b[0;34m]\u001b[0m\u001b[0;34m\u001b[0m\u001b[0;34m\u001b[0m\u001b[0m\n\u001b[0m",
      "\u001b[0;31mKeyError\u001b[0m: \"it's\""
     ]
    }
   ],
   "source": [
    "vocab[\"\"]"
   ]
  },
  {
   "cell_type": "code",
   "execution_count": null,
   "id": "c5019da3",
   "metadata": {},
   "outputs": [],
   "source": [
    "all_sentences = [sen.lower() for sen in list(train_df['sentences'])]"
   ]
  },
  {
   "cell_type": "code",
   "execution_count": null,
   "id": "1f905cbb",
   "metadata": {},
   "outputs": [],
   "source": [
    "for sen in all_sentences:\n",
    "    words = sentences.split(' ')"
   ]
  },
  {
   "cell_type": "code",
   "execution_count": null,
   "id": "1a359a65",
   "metadata": {},
   "outputs": [],
   "source": []
  },
  {
   "cell_type": "code",
   "execution_count": null,
   "id": "eb189150",
   "metadata": {},
   "outputs": [],
   "source": []
  },
  {
   "cell_type": "code",
   "execution_count": null,
   "id": "0ebee4f2",
   "metadata": {},
   "outputs": [],
   "source": []
  },
  {
   "cell_type": "code",
   "execution_count": null,
   "id": "e4ac03ed",
   "metadata": {},
   "outputs": [],
   "source": []
  },
  {
   "cell_type": "code",
   "execution_count": null,
   "id": "f426b689",
   "metadata": {},
   "outputs": [],
   "source": []
  },
  {
   "cell_type": "code",
   "execution_count": null,
   "id": "ae201b46",
   "metadata": {},
   "outputs": [],
   "source": []
  },
  {
   "cell_type": "code",
   "execution_count": null,
   "id": "c332aa04",
   "metadata": {},
   "outputs": [],
   "source": []
  },
  {
   "cell_type": "code",
   "execution_count": null,
   "id": "0536e479",
   "metadata": {},
   "outputs": [],
   "source": []
  }
 ],
 "metadata": {
  "kernelspec": {
   "display_name": "Python 3 (ipykernel)",
   "language": "python",
   "name": "python3"
  },
  "language_info": {
   "codemirror_mode": {
    "name": "ipython",
    "version": 3
   },
   "file_extension": ".py",
   "mimetype": "text/x-python",
   "name": "python",
   "nbconvert_exporter": "python",
   "pygments_lexer": "ipython3",
   "version": "3.8.5"
  }
 },
 "nbformat": 4,
 "nbformat_minor": 5
}
