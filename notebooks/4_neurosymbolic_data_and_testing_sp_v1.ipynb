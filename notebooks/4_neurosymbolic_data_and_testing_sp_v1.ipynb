{
 "cells": [
  {
   "cell_type": "markdown",
   "id": "3eec1329",
   "metadata": {},
   "source": [
    "## Imports"
   ]
  },
  {
   "cell_type": "code",
   "execution_count": 8,
   "id": "eca54062",
   "metadata": {},
   "outputs": [],
   "source": [
    "import pandas as pd"
   ]
  },
  {
   "cell_type": "markdown",
   "id": "f338bdfd",
   "metadata": {},
   "source": [
    "## Load Data"
   ]
  },
  {
   "cell_type": "code",
   "execution_count": 9,
   "id": "0a87e200",
   "metadata": {},
   "outputs": [],
   "source": [
    "train_df = pd.read_csv('../data/processed/subtask1_train_bert.csv')"
   ]
  },
  {
   "cell_type": "code",
   "execution_count": 10,
   "id": "3603d6de",
   "metadata": {},
   "outputs": [
    {
     "data": {
      "text/html": [
       "<div>\n",
       "<style scoped>\n",
       "    .dataframe tbody tr th:only-of-type {\n",
       "        vertical-align: middle;\n",
       "    }\n",
       "\n",
       "    .dataframe tbody tr th {\n",
       "        vertical-align: top;\n",
       "    }\n",
       "\n",
       "    .dataframe thead th {\n",
       "        text-align: right;\n",
       "    }\n",
       "</style>\n",
       "<table border=\"1\" class=\"dataframe\">\n",
       "  <thead>\n",
       "    <tr style=\"text-align: right;\">\n",
       "      <th></th>\n",
       "      <th>sentenceID</th>\n",
       "      <th>label</th>\n",
       "      <th>text</th>\n",
       "    </tr>\n",
       "  </thead>\n",
       "  <tbody>\n",
       "    <tr>\n",
       "      <th>0</th>\n",
       "      <td>100000</td>\n",
       "      <td>1</td>\n",
       "      <td>goodfellows theory has been questioned however...</td>\n",
       "    </tr>\n",
       "    <tr>\n",
       "      <th>1</th>\n",
       "      <td>100001</td>\n",
       "      <td>1</td>\n",
       "      <td>however both campaigners and propeoples vote m...</td>\n",
       "    </tr>\n",
       "    <tr>\n",
       "      <th>2</th>\n",
       "      <td>100002</td>\n",
       "      <td>1</td>\n",
       "      <td>things could have been even better if the whol...</td>\n",
       "    </tr>\n",
       "    <tr>\n",
       "      <th>3</th>\n",
       "      <td>100003</td>\n",
       "      <td>0</td>\n",
       "      <td>the new request if approved would keep the mil...</td>\n",
       "    </tr>\n",
       "    <tr>\n",
       "      <th>4</th>\n",
       "      <td>100004</td>\n",
       "      <td>0</td>\n",
       "      <td>companies in financial difficulty can currentl...</td>\n",
       "    </tr>\n",
       "  </tbody>\n",
       "</table>\n",
       "</div>"
      ],
      "text/plain": [
       "   sentenceID  label                                               text\n",
       "0      100000      1  goodfellows theory has been questioned however...\n",
       "1      100001      1  however both campaigners and propeoples vote m...\n",
       "2      100002      1  things could have been even better if the whol...\n",
       "3      100003      0  the new request if approved would keep the mil...\n",
       "4      100004      0  companies in financial difficulty can currentl..."
      ]
     },
     "execution_count": 10,
     "metadata": {},
     "output_type": "execute_result"
    }
   ],
   "source": [
    "train_df.head()"
   ]
  },
  {
   "cell_type": "markdown",
   "id": "54882578",
   "metadata": {},
   "source": [
    "## Basic Check"
   ]
  },
  {
   "cell_type": "code",
   "execution_count": null,
   "id": "8c9107e7",
   "metadata": {},
   "outputs": [],
   "source": [
    "train_df[train_df['text'].str.contains('with')].iloc[3]['text']"
   ]
  },
  {
   "cell_type": "code",
   "execution_count": null,
   "id": "96e99ebd",
   "metadata": {},
   "outputs": [],
   "source": [
    "train_df[train_df['text'].str.contains('with')].groupby('label').count()"
   ]
  },
  {
   "cell_type": "markdown",
   "id": "1698d715",
   "metadata": {},
   "source": [
    "## Splitting the dataset\n",
    "#### Wish - 0, Should - 1, Could/Would - 2, If - 3, Other - 4"
   ]
  },
  {
   "cell_type": "code",
   "execution_count": 11,
   "id": "96c3934b",
   "metadata": {},
   "outputs": [],
   "source": [
    "from nltk.tokenize import word_tokenize"
   ]
  },
  {
   "cell_type": "code",
   "execution_count": 12,
   "id": "3d9a74e7",
   "metadata": {},
   "outputs": [],
   "source": [
    "id_to_word = {0: 'wish',\n",
    "             1: 'should',\n",
    "             2: 'couldwould',\n",
    "             3: 'if',\n",
    "             4: 'other'}"
   ]
  },
  {
   "cell_type": "code",
   "execution_count": 13,
   "id": "6983a316",
   "metadata": {},
   "outputs": [],
   "source": [
    "def check(ll, idx):\n",
    "    if idx == 0:\n",
    "        return 'wish' in ll\n",
    "    elif idx == 1:\n",
    "        return 'should' in ll\n",
    "    elif idx == 2:\n",
    "        return ('could' in ll) or ('would' in ll)\n",
    "    elif idx == 3:\n",
    "        return 'if' in ll\n",
    "    elif idx == 4:\n",
    "        return ('wish' not in ll) and ('should' not in ll) and ('could' not in ll) and ('would' not in ll) and ('if' not in ll)"
   ]
  },
  {
   "cell_type": "code",
   "execution_count": 14,
   "id": "f0eeb399",
   "metadata": {},
   "outputs": [
    {
     "name": "stdout",
     "output_type": "stream",
     "text": [
      "       sentenceID  text\n",
      "label                  \n",
      "0             280   280\n",
      "1             119   119\n",
      "       sentenceID  text\n",
      "label                  \n",
      "0             778   778\n",
      "1             118   118\n",
      "       sentenceID  text\n",
      "label                  \n",
      "0            5297  5297\n",
      "1             996   996\n",
      "       sentenceID  text\n",
      "label                  \n",
      "0            8498  8498\n",
      "1             738   738\n",
      "       sentenceID  text\n",
      "label                  \n",
      "0            1482  1482\n",
      "1             114   114\n"
     ]
    }
   ],
   "source": [
    "for id_num in range(5):\n",
    "    idxs = [i for i, x in enumerate(list(train_df['text'])) if check(word_tokenize(x), id_num)]\n",
    "    new_train_df = train_df.iloc[idxs]\n",
    "    print(new_train_df.groupby('label').count())\n",
    "#     new_train_df.to_csv('../data/processed/subtask1_train_bert_'+id_to_word[id_num]+'.csv', index=False)"
   ]
  },
  {
   "cell_type": "markdown",
   "id": "d53ab201",
   "metadata": {},
   "source": [
    "## Emsemble Testing"
   ]
  },
  {
   "cell_type": "code",
   "execution_count": 28,
   "id": "d8ac7abc",
   "metadata": {},
   "outputs": [],
   "source": [
    "test_df = pd.read_csv('../data/processed/subtask1_test_bert.csv')"
   ]
  },
  {
   "cell_type": "code",
   "execution_count": 29,
   "id": "6cbadcbc",
   "metadata": {},
   "outputs": [],
   "source": [
    "import numpy as np\n",
    "with open('../data/processed/if.npy', 'rb') as f:\n",
    "    if_arr = np.load(f)\n",
    "with open('../data/processed/should.npy', 'rb') as f:\n",
    "    should_arr = np.load(f)\n",
    "with open('../data/processed/couldwould.npy', 'rb') as f:\n",
    "    cw_arr = np.load(f)\n",
    "with open('../data/processed/wish.npy', 'rb') as f:\n",
    "    wish_arr = np.load(f)\n",
    "with open('../data/processed/other.npy', 'rb') as f:\n",
    "    other_arr = np.load(f)"
   ]
  },
  {
   "cell_type": "code",
   "execution_count": 30,
   "id": "e11a7b1f",
   "metadata": {},
   "outputs": [],
   "source": [
    "from scipy import stats"
   ]
  },
  {
   "cell_type": "code",
   "execution_count": 52,
   "id": "e45a2510",
   "metadata": {},
   "outputs": [],
   "source": [
    "fin_ans = []\n",
    "for i, t in enumerate(list(test_df['text'])):\n",
    "    ll = word_tokenize(t)\n",
    "    ans = []\n",
    "    if 'wish' in ll:\n",
    "        ans.append(wish_arr[i])\n",
    "    if 'should' in ll:\n",
    "        ans.append(should_arr[i])\n",
    "    if ('could' in ll) or ('would' in ll):\n",
    "        ans.append(cw_arr[i])\n",
    "    if 'if' in ll:\n",
    "        ans.append(if_arr[i])\n",
    "    if ('wish' not in ll) and ('should' not in ll) and ('could' not in ll) and ('would' not in ll) and ('if' not in ll):\n",
    "        ans.append(other_arr[i])\n",
    "    if sum(ans) > 0:\n",
    "        fin_ans.append(1)\n",
    "    else:\n",
    "        fin_ans.append(0)"
   ]
  },
  {
   "cell_type": "code",
   "execution_count": 53,
   "id": "c03c45a6",
   "metadata": {},
   "outputs": [],
   "source": [
    "pred_labels = np.array(fin_ans)\n",
    "gold_labels = np.array(test_df['label'])"
   ]
  },
  {
   "cell_type": "code",
   "execution_count": 54,
   "id": "90f3b17d",
   "metadata": {},
   "outputs": [
    {
     "name": "stdout",
     "output_type": "stream",
     "text": [
      "F1:  0.8619756427604871\n",
      "Accuracy:  0.9708571428571429\n",
      "Precision:  0.8608108108108108\n",
      "Recall:  0.8631436314363143\n"
     ]
    }
   ],
   "source": [
    "from sklearn.metrics import f1_score, accuracy_score, precision_score, recall_score\n",
    "\n",
    "print('F1: ', f1_score(gold_labels, pred_labels))\n",
    "print('Accuracy: ', accuracy_score(gold_labels, pred_labels))\n",
    "print('Precision: ', precision_score(gold_labels, pred_labels))\n",
    "print('Recall: ', recall_score(gold_labels, pred_labels))"
   ]
  }
 ],
 "metadata": {
  "kernelspec": {
   "display_name": "Python 3 (ipykernel)",
   "language": "python",
   "name": "python3"
  },
  "language_info": {
   "codemirror_mode": {
    "name": "ipython",
    "version": 3
   },
   "file_extension": ".py",
   "mimetype": "text/x-python",
   "name": "python",
   "nbconvert_exporter": "python",
   "pygments_lexer": "ipython3",
   "version": "3.8.5"
  }
 },
 "nbformat": 4,
 "nbformat_minor": 5
}
